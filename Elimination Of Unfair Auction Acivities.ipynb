{
  "cells": [
    {
      "cell_type": "markdown",
      "id": "162b8d44",
      "metadata": {
        "id": "162b8d44"
      },
      "source": [
        "##### Importing necessary modules for the project"
      ]
    },
    {
      "cell_type": "code",
      "source": [
        "from google.colab import drive\n"
      ],
      "metadata": {
        "id": "yD5_Fsu9szEU"
      },
      "id": "yD5_Fsu9szEU",
      "execution_count": null,
      "outputs": []
    },
    {
      "cell_type": "code",
      "source": [
        "drive.mount('/content/gdrive/', force_remount=True)"
      ],
      "metadata": {
        "id": "sNGLMlusvfRp",
        "outputId": "3435077d-3aae-451f-a766-a0d6f2537f01",
        "colab": {
          "base_uri": "https://localhost:8080/"
        }
      },
      "id": "sNGLMlusvfRp",
      "execution_count": null,
      "outputs": [
        {
          "output_type": "stream",
          "name": "stdout",
          "text": [
            "Mounted at /content/gdrive/\n"
          ]
        }
      ]
    },
    {
      "cell_type": "code",
      "execution_count": null,
      "id": "3ad19313",
      "metadata": {
        "id": "3ad19313"
      },
      "outputs": [],
      "source": [
        "import numpy as np\n",
        "import pandas as pd\n",
        "import seaborn as sns\n",
        "import matplotlib.pyplot as plt\n",
        "from sklearn.model_selection import KFold\n",
        "from sklearn.model_selection import cross_validate\n",
        "from sklearn.model_selection import GridSearchCV\n",
        "from sklearn.model_selection import RandomizedSearchCV\n",
        "from sklearn.metrics import accuracy_score\n",
        "from sklearn.model_selection import train_test_split\n",
        "from sklearn.ensemble import RandomForestClassifier\n",
        "import warnings\n",
        "from sklearn import preprocessing\n",
        "warnings.filterwarnings('ignore')\n",
        "import time\n",
        "import datetime\n",
        "import scipy.stats\n",
        "from sklearn.metrics import roc_curve, auc\n",
        "from sklearn.metrics import confusion_matrix\n",
        "from sklearn.metrics import classification_report\n",
        "from sklearn.neighbors import KNeighborsClassifier\n",
        "from sklearn.ensemble import GradientBoostingClassifier\n",
        "from sklearn import metrics\n"
      ]
    },
    {
      "cell_type": "code",
      "execution_count": null,
      "id": "8f762cc0",
      "metadata": {
        "id": "8f762cc0"
      },
      "outputs": [],
      "source": [
        "# Loading bids.csv\n",
        "\n",
        "bids_file = pd.read_csv('/content/gdrive/MyDrive/CSV/Online Bid Dataset /bids.csv')\n",
        "\n",
        "# Loading train.csv and test.csv\n",
        "train = pd.read_csv('/content/gdrive/MyDrive/CSV/Online Bid Dataset /train.csv')\n",
        "\n",
        "test = pd.read_csv('/content/gdrive/MyDrive/CSV/Online Bid Dataset /test.csv')"
      ]
    },
    {
      "cell_type": "code",
      "execution_count": null,
      "id": "bc602688",
      "metadata": {
        "id": "bc602688"
      },
      "outputs": [],
      "source": [
        "# Joining the train data set with full data set\n",
        "\n",
        "bids = pd.merge(train, bids_file, on='bidder_id', how='left')\n",
        "\n",
        "# writing the merged dataset to file - bid.csv\n",
        "\n",
        "bids.to_csv(\"/content/gdrive/MyDrive/CSV/Online Bid Dataset /bid.csv\")"
      ]
    },
    {
      "cell_type": "code",
      "execution_count": null,
      "id": "2b6cd61f",
      "metadata": {
        "id": "2b6cd61f",
        "outputId": "bfb5ef92-2afa-40ce-d7c2-8d12e247712c",
        "colab": {
          "base_uri": "https://localhost:8080/",
          "height": 317
        }
      },
      "outputs": [
        {
          "output_type": "execute_result",
          "data": {
            "text/plain": [
              "   Unnamed: 0                              bidder_id  \\\n",
              "0           0  91a3c57b13234af24875c56fb7e2b2f4rb56a   \n",
              "1           1  91a3c57b13234af24875c56fb7e2b2f4rb56a   \n",
              "2           2  91a3c57b13234af24875c56fb7e2b2f4rb56a   \n",
              "3           3  91a3c57b13234af24875c56fb7e2b2f4rb56a   \n",
              "4           4  91a3c57b13234af24875c56fb7e2b2f4rb56a   \n",
              "\n",
              "                       payment_account_x  \\\n",
              "0  a3d2de7675556553a5f08e4c88d2c228754av   \n",
              "1  a3d2de7675556553a5f08e4c88d2c228754av   \n",
              "2  a3d2de7675556553a5f08e4c88d2c228754av   \n",
              "3  a3d2de7675556553a5f08e4c88d2c228754av   \n",
              "4  a3d2de7675556553a5f08e4c88d2c228754av   \n",
              "\n",
              "                               address_x  outcome_x  Unnamed: 0.1  \\\n",
              "0  a3d2de7675556553a5f08e4c88d2c228vt0u4        0.0             0   \n",
              "1  a3d2de7675556553a5f08e4c88d2c228vt0u4        0.0             1   \n",
              "2  a3d2de7675556553a5f08e4c88d2c228vt0u4        0.0             2   \n",
              "3  a3d2de7675556553a5f08e4c88d2c228vt0u4        0.0             3   \n",
              "4  a3d2de7675556553a5f08e4c88d2c228vt0u4        0.0             4   \n",
              "\n",
              "                       payment_account_y  \\\n",
              "0  a3d2de7675556553a5f08e4c88d2c228754av   \n",
              "1  a3d2de7675556553a5f08e4c88d2c228754av   \n",
              "2  a3d2de7675556553a5f08e4c88d2c228754av   \n",
              "3  a3d2de7675556553a5f08e4c88d2c228754av   \n",
              "4  a3d2de7675556553a5f08e4c88d2c228754av   \n",
              "\n",
              "                               address_y  outcome_y  Unnamed: 0.1.1  ...  \\\n",
              "0  a3d2de7675556553a5f08e4c88d2c228vt0u4        0.0               0  ...   \n",
              "1  a3d2de7675556553a5f08e4c88d2c228vt0u4        0.0               1  ...   \n",
              "2  a3d2de7675556553a5f08e4c88d2c228vt0u4        0.0               2  ...   \n",
              "3  a3d2de7675556553a5f08e4c88d2c228vt0u4        0.0               3  ...   \n",
              "4  a3d2de7675556553a5f08e4c88d2c228vt0u4        0.0               4  ...   \n",
              "\n",
              "                             address_y.1 outcome_y.1    bid_id  auction  \\\n",
              "0  a3d2de7675556553a5f08e4c88d2c228vt0u4         0.0   85371.0    yitr4   \n",
              "1  a3d2de7675556553a5f08e4c88d2c228vt0u4         0.0  274487.0    btpyy   \n",
              "2  a3d2de7675556553a5f08e4c88d2c228vt0u4         0.0  527436.0    kj2ko   \n",
              "3  a3d2de7675556553a5f08e4c88d2c228vt0u4         0.0  554135.0    1m5t8   \n",
              "4  a3d2de7675556553a5f08e4c88d2c228vt0u4         0.0  607628.0    btpyy   \n",
              "\n",
              "  merchandise     device          time  country               ip  \\\n",
              "0  home goods    phone35  9.759489e+15       ke    82.34.177.248   \n",
              "1  home goods  phone1004  9.760249e+15       zm   202.130.71.167   \n",
              "2  home goods     phone4  9.762261e+15       ke     22.54.76.225   \n",
              "3  home goods     phone4  9.762431e+15       ke    32.13.237.126   \n",
              "4  home goods     phone4  9.762789e+15       ke  202.236.188.240   \n",
              "\n",
              "               url  \n",
              "0  vasstdc27m7nks3  \n",
              "1  vasstdc27m7nks3  \n",
              "2  vasstdc27m7nks3  \n",
              "3  vasstdc27m7nks3  \n",
              "4  vasstdc27m7nks3  \n",
              "\n",
              "[5 rows x 25 columns]"
            ],
            "text/html": [
              "\n",
              "  <div id=\"df-f22dc22d-0ed7-4562-bad5-32d627816cc8\">\n",
              "    <div class=\"colab-df-container\">\n",
              "      <div>\n",
              "<style scoped>\n",
              "    .dataframe tbody tr th:only-of-type {\n",
              "        vertical-align: middle;\n",
              "    }\n",
              "\n",
              "    .dataframe tbody tr th {\n",
              "        vertical-align: top;\n",
              "    }\n",
              "\n",
              "    .dataframe thead th {\n",
              "        text-align: right;\n",
              "    }\n",
              "</style>\n",
              "<table border=\"1\" class=\"dataframe\">\n",
              "  <thead>\n",
              "    <tr style=\"text-align: right;\">\n",
              "      <th></th>\n",
              "      <th>Unnamed: 0</th>\n",
              "      <th>bidder_id</th>\n",
              "      <th>payment_account_x</th>\n",
              "      <th>address_x</th>\n",
              "      <th>outcome_x</th>\n",
              "      <th>Unnamed: 0.1</th>\n",
              "      <th>payment_account_y</th>\n",
              "      <th>address_y</th>\n",
              "      <th>outcome_y</th>\n",
              "      <th>Unnamed: 0.1.1</th>\n",
              "      <th>...</th>\n",
              "      <th>address_y.1</th>\n",
              "      <th>outcome_y.1</th>\n",
              "      <th>bid_id</th>\n",
              "      <th>auction</th>\n",
              "      <th>merchandise</th>\n",
              "      <th>device</th>\n",
              "      <th>time</th>\n",
              "      <th>country</th>\n",
              "      <th>ip</th>\n",
              "      <th>url</th>\n",
              "    </tr>\n",
              "  </thead>\n",
              "  <tbody>\n",
              "    <tr>\n",
              "      <th>0</th>\n",
              "      <td>0</td>\n",
              "      <td>91a3c57b13234af24875c56fb7e2b2f4rb56a</td>\n",
              "      <td>a3d2de7675556553a5f08e4c88d2c228754av</td>\n",
              "      <td>a3d2de7675556553a5f08e4c88d2c228vt0u4</td>\n",
              "      <td>0.0</td>\n",
              "      <td>0</td>\n",
              "      <td>a3d2de7675556553a5f08e4c88d2c228754av</td>\n",
              "      <td>a3d2de7675556553a5f08e4c88d2c228vt0u4</td>\n",
              "      <td>0.0</td>\n",
              "      <td>0</td>\n",
              "      <td>...</td>\n",
              "      <td>a3d2de7675556553a5f08e4c88d2c228vt0u4</td>\n",
              "      <td>0.0</td>\n",
              "      <td>85371.0</td>\n",
              "      <td>yitr4</td>\n",
              "      <td>home goods</td>\n",
              "      <td>phone35</td>\n",
              "      <td>9.759489e+15</td>\n",
              "      <td>ke</td>\n",
              "      <td>82.34.177.248</td>\n",
              "      <td>vasstdc27m7nks3</td>\n",
              "    </tr>\n",
              "    <tr>\n",
              "      <th>1</th>\n",
              "      <td>1</td>\n",
              "      <td>91a3c57b13234af24875c56fb7e2b2f4rb56a</td>\n",
              "      <td>a3d2de7675556553a5f08e4c88d2c228754av</td>\n",
              "      <td>a3d2de7675556553a5f08e4c88d2c228vt0u4</td>\n",
              "      <td>0.0</td>\n",
              "      <td>1</td>\n",
              "      <td>a3d2de7675556553a5f08e4c88d2c228754av</td>\n",
              "      <td>a3d2de7675556553a5f08e4c88d2c228vt0u4</td>\n",
              "      <td>0.0</td>\n",
              "      <td>1</td>\n",
              "      <td>...</td>\n",
              "      <td>a3d2de7675556553a5f08e4c88d2c228vt0u4</td>\n",
              "      <td>0.0</td>\n",
              "      <td>274487.0</td>\n",
              "      <td>btpyy</td>\n",
              "      <td>home goods</td>\n",
              "      <td>phone1004</td>\n",
              "      <td>9.760249e+15</td>\n",
              "      <td>zm</td>\n",
              "      <td>202.130.71.167</td>\n",
              "      <td>vasstdc27m7nks3</td>\n",
              "    </tr>\n",
              "    <tr>\n",
              "      <th>2</th>\n",
              "      <td>2</td>\n",
              "      <td>91a3c57b13234af24875c56fb7e2b2f4rb56a</td>\n",
              "      <td>a3d2de7675556553a5f08e4c88d2c228754av</td>\n",
              "      <td>a3d2de7675556553a5f08e4c88d2c228vt0u4</td>\n",
              "      <td>0.0</td>\n",
              "      <td>2</td>\n",
              "      <td>a3d2de7675556553a5f08e4c88d2c228754av</td>\n",
              "      <td>a3d2de7675556553a5f08e4c88d2c228vt0u4</td>\n",
              "      <td>0.0</td>\n",
              "      <td>2</td>\n",
              "      <td>...</td>\n",
              "      <td>a3d2de7675556553a5f08e4c88d2c228vt0u4</td>\n",
              "      <td>0.0</td>\n",
              "      <td>527436.0</td>\n",
              "      <td>kj2ko</td>\n",
              "      <td>home goods</td>\n",
              "      <td>phone4</td>\n",
              "      <td>9.762261e+15</td>\n",
              "      <td>ke</td>\n",
              "      <td>22.54.76.225</td>\n",
              "      <td>vasstdc27m7nks3</td>\n",
              "    </tr>\n",
              "    <tr>\n",
              "      <th>3</th>\n",
              "      <td>3</td>\n",
              "      <td>91a3c57b13234af24875c56fb7e2b2f4rb56a</td>\n",
              "      <td>a3d2de7675556553a5f08e4c88d2c228754av</td>\n",
              "      <td>a3d2de7675556553a5f08e4c88d2c228vt0u4</td>\n",
              "      <td>0.0</td>\n",
              "      <td>3</td>\n",
              "      <td>a3d2de7675556553a5f08e4c88d2c228754av</td>\n",
              "      <td>a3d2de7675556553a5f08e4c88d2c228vt0u4</td>\n",
              "      <td>0.0</td>\n",
              "      <td>3</td>\n",
              "      <td>...</td>\n",
              "      <td>a3d2de7675556553a5f08e4c88d2c228vt0u4</td>\n",
              "      <td>0.0</td>\n",
              "      <td>554135.0</td>\n",
              "      <td>1m5t8</td>\n",
              "      <td>home goods</td>\n",
              "      <td>phone4</td>\n",
              "      <td>9.762431e+15</td>\n",
              "      <td>ke</td>\n",
              "      <td>32.13.237.126</td>\n",
              "      <td>vasstdc27m7nks3</td>\n",
              "    </tr>\n",
              "    <tr>\n",
              "      <th>4</th>\n",
              "      <td>4</td>\n",
              "      <td>91a3c57b13234af24875c56fb7e2b2f4rb56a</td>\n",
              "      <td>a3d2de7675556553a5f08e4c88d2c228754av</td>\n",
              "      <td>a3d2de7675556553a5f08e4c88d2c228vt0u4</td>\n",
              "      <td>0.0</td>\n",
              "      <td>4</td>\n",
              "      <td>a3d2de7675556553a5f08e4c88d2c228754av</td>\n",
              "      <td>a3d2de7675556553a5f08e4c88d2c228vt0u4</td>\n",
              "      <td>0.0</td>\n",
              "      <td>4</td>\n",
              "      <td>...</td>\n",
              "      <td>a3d2de7675556553a5f08e4c88d2c228vt0u4</td>\n",
              "      <td>0.0</td>\n",
              "      <td>607628.0</td>\n",
              "      <td>btpyy</td>\n",
              "      <td>home goods</td>\n",
              "      <td>phone4</td>\n",
              "      <td>9.762789e+15</td>\n",
              "      <td>ke</td>\n",
              "      <td>202.236.188.240</td>\n",
              "      <td>vasstdc27m7nks3</td>\n",
              "    </tr>\n",
              "  </tbody>\n",
              "</table>\n",
              "<p>5 rows × 25 columns</p>\n",
              "</div>\n",
              "      <button class=\"colab-df-convert\" onclick=\"convertToInteractive('df-f22dc22d-0ed7-4562-bad5-32d627816cc8')\"\n",
              "              title=\"Convert this dataframe to an interactive table.\"\n",
              "              style=\"display:none;\">\n",
              "        \n",
              "  <svg xmlns=\"http://www.w3.org/2000/svg\" height=\"24px\"viewBox=\"0 0 24 24\"\n",
              "       width=\"24px\">\n",
              "    <path d=\"M0 0h24v24H0V0z\" fill=\"none\"/>\n",
              "    <path d=\"M18.56 5.44l.94 2.06.94-2.06 2.06-.94-2.06-.94-.94-2.06-.94 2.06-2.06.94zm-11 1L8.5 8.5l.94-2.06 2.06-.94-2.06-.94L8.5 2.5l-.94 2.06-2.06.94zm10 10l.94 2.06.94-2.06 2.06-.94-2.06-.94-.94-2.06-.94 2.06-2.06.94z\"/><path d=\"M17.41 7.96l-1.37-1.37c-.4-.4-.92-.59-1.43-.59-.52 0-1.04.2-1.43.59L10.3 9.45l-7.72 7.72c-.78.78-.78 2.05 0 2.83L4 21.41c.39.39.9.59 1.41.59.51 0 1.02-.2 1.41-.59l7.78-7.78 2.81-2.81c.8-.78.8-2.07 0-2.86zM5.41 20L4 18.59l7.72-7.72 1.47 1.35L5.41 20z\"/>\n",
              "  </svg>\n",
              "      </button>\n",
              "      \n",
              "  <style>\n",
              "    .colab-df-container {\n",
              "      display:flex;\n",
              "      flex-wrap:wrap;\n",
              "      gap: 12px;\n",
              "    }\n",
              "\n",
              "    .colab-df-convert {\n",
              "      background-color: #E8F0FE;\n",
              "      border: none;\n",
              "      border-radius: 50%;\n",
              "      cursor: pointer;\n",
              "      display: none;\n",
              "      fill: #1967D2;\n",
              "      height: 32px;\n",
              "      padding: 0 0 0 0;\n",
              "      width: 32px;\n",
              "    }\n",
              "\n",
              "    .colab-df-convert:hover {\n",
              "      background-color: #E2EBFA;\n",
              "      box-shadow: 0px 1px 2px rgba(60, 64, 67, 0.3), 0px 1px 3px 1px rgba(60, 64, 67, 0.15);\n",
              "      fill: #174EA6;\n",
              "    }\n",
              "\n",
              "    [theme=dark] .colab-df-convert {\n",
              "      background-color: #3B4455;\n",
              "      fill: #D2E3FC;\n",
              "    }\n",
              "\n",
              "    [theme=dark] .colab-df-convert:hover {\n",
              "      background-color: #434B5C;\n",
              "      box-shadow: 0px 1px 3px 1px rgba(0, 0, 0, 0.15);\n",
              "      filter: drop-shadow(0px 1px 2px rgba(0, 0, 0, 0.3));\n",
              "      fill: #FFFFFF;\n",
              "    }\n",
              "  </style>\n",
              "\n",
              "      <script>\n",
              "        const buttonEl =\n",
              "          document.querySelector('#df-f22dc22d-0ed7-4562-bad5-32d627816cc8 button.colab-df-convert');\n",
              "        buttonEl.style.display =\n",
              "          google.colab.kernel.accessAllowed ? 'block' : 'none';\n",
              "\n",
              "        async function convertToInteractive(key) {\n",
              "          const element = document.querySelector('#df-f22dc22d-0ed7-4562-bad5-32d627816cc8');\n",
              "          const dataTable =\n",
              "            await google.colab.kernel.invokeFunction('convertToInteractive',\n",
              "                                                     [key], {});\n",
              "          if (!dataTable) return;\n",
              "\n",
              "          const docLinkHtml = 'Like what you see? Visit the ' +\n",
              "            '<a target=\"_blank\" href=https://colab.research.google.com/notebooks/data_table.ipynb>data table notebook</a>'\n",
              "            + ' to learn more about interactive tables.';\n",
              "          element.innerHTML = '';\n",
              "          dataTable['output_type'] = 'display_data';\n",
              "          await google.colab.output.renderOutput(dataTable, element);\n",
              "          const docLink = document.createElement('div');\n",
              "          docLink.innerHTML = docLinkHtml;\n",
              "          element.appendChild(docLink);\n",
              "        }\n",
              "      </script>\n",
              "    </div>\n",
              "  </div>\n",
              "  "
            ]
          },
          "metadata": {},
          "execution_count": 8
        }
      ],
      "source": [
        "# Loading merged csv file\n",
        "\n",
        "bids_data = pd.read_csv(\"/content/gdrive/MyDrive/CSV/Online Bid Dataset /bid.csv\")\n",
        "bids_data.head()"
      ]
    },
    {
      "cell_type": "markdown",
      "id": "04006fea",
      "metadata": {
        "id": "04006fea"
      },
      "source": [
        "# Data Cleaning and Preprocessing"
      ]
    },
    {
      "cell_type": "code",
      "execution_count": null,
      "id": "4e750d43",
      "metadata": {
        "id": "4e750d43",
        "outputId": "952738c1-b3ef-4df0-af39-8f6b7b32ad5d",
        "colab": {
          "base_uri": "https://localhost:8080/"
        }
      },
      "outputs": [
        {
          "output_type": "execute_result",
          "data": {
            "text/plain": [
              "Unnamed: 0             False\n",
              "bidder_id              False\n",
              "payment_account_x      False\n",
              "address_x              False\n",
              "outcome_x              False\n",
              "Unnamed: 0.1           False\n",
              "payment_account_y      False\n",
              "address_y              False\n",
              "outcome_y              False\n",
              "Unnamed: 0.1.1         False\n",
              "payment_account_x.1    False\n",
              "address_x.1            False\n",
              "outcome_x.1            False\n",
              "Unnamed: 0.1.1.1       False\n",
              "payment_account_y.1    False\n",
              "address_y.1            False\n",
              "outcome_y.1            False\n",
              "bid_id                  True\n",
              "auction                 True\n",
              "merchandise             True\n",
              "device                  True\n",
              "time                    True\n",
              "country                 True\n",
              "ip                      True\n",
              "url                     True\n",
              "dtype: bool"
            ]
          },
          "metadata": {},
          "execution_count": 9
        }
      ],
      "source": [
        "pd.isnull(bids_data).any()"
      ]
    },
    {
      "cell_type": "markdown",
      "id": "deeaac84",
      "metadata": {
        "id": "deeaac84"
      },
      "source": [
        "# Handling Missing Values"
      ]
    },
    {
      "cell_type": "code",
      "execution_count": null,
      "id": "d54594a7",
      "metadata": {
        "id": "d54594a7",
        "outputId": "e7a584c6-535c-44b0-b2bd-55074fd64b56",
        "colab": {
          "base_uri": "https://localhost:8080/"
        }
      },
      "outputs": [
        {
          "output_type": "execute_result",
          "data": {
            "text/plain": [
              "29"
            ]
          },
          "metadata": {},
          "execution_count": 10
        }
      ],
      "source": [
        "# checking if there are any bidder id that will not have any bids\n",
        "\n",
        "nobids_Train = bids_data[pd.isnull(bids_data['bid_id'])]['bidder_id'].unique()\n",
        "len(nobids_Train)"
      ]
    },
    {
      "cell_type": "code",
      "execution_count": null,
      "id": "71f70d45",
      "metadata": {
        "id": "71f70d45",
        "outputId": "573cdb23-4475-43b4-dc06-56ac30ac6009",
        "colab": {
          "base_uri": "https://localhost:8080/"
        }
      },
      "outputs": [
        {
          "output_type": "execute_result",
          "data": {
            "text/plain": [
              "17583      0.0\n",
              "42424      0.0\n",
              "129439     0.0\n",
              "214915     0.0\n",
              "221776     0.0\n",
              "226432     0.0\n",
              "255107     0.0\n",
              "305088     0.0\n",
              "333331     0.0\n",
              "409451     0.0\n",
              "654549     0.0\n",
              "657208     0.0\n",
              "788183     0.0\n",
              "790914     0.0\n",
              "794927     0.0\n",
              "810369     0.0\n",
              "883351     0.0\n",
              "1018748    0.0\n",
              "1019599    0.0\n",
              "1021349    0.0\n",
              "1123023    0.0\n",
              "1139921    0.0\n",
              "1217466    0.0\n",
              "1465813    0.0\n",
              "1482542    0.0\n",
              "1648201    0.0\n",
              "1974826    0.0\n",
              "2139077    0.0\n",
              "2999380    0.0\n",
              "Name: outcome_x, dtype: float64"
            ]
          },
          "metadata": {},
          "execution_count": 11
        }
      ],
      "source": [
        "bids_data[bids_data['bidder_id'].isin(nobids_Train)]['outcome_x']"
      ]
    },
    {
      "cell_type": "code",
      "execution_count": null,
      "id": "356141e6",
      "metadata": {
        "id": "356141e6"
      },
      "outputs": [],
      "source": [
        "# For all missing values, dropping the observation\n",
        "\n",
        "bids = bids_data[~bids_data['bidder_id'].isin(nobids_Train)]"
      ]
    },
    {
      "cell_type": "code",
      "execution_count": null,
      "id": "7d95c680",
      "metadata": {
        "id": "7d95c680",
        "outputId": "1b69ecf6-4b2e-473f-dc94-128a48971d81",
        "colab": {
          "base_uri": "https://localhost:8080/"
        }
      },
      "outputs": [
        {
          "output_type": "execute_result",
          "data": {
            "text/plain": [
              "Unnamed: 0             False\n",
              "bidder_id              False\n",
              "payment_account_x      False\n",
              "address_x              False\n",
              "outcome_x              False\n",
              "Unnamed: 0.1           False\n",
              "payment_account_y      False\n",
              "address_y              False\n",
              "outcome_y              False\n",
              "Unnamed: 0.1.1         False\n",
              "payment_account_x.1    False\n",
              "address_x.1            False\n",
              "outcome_x.1            False\n",
              "Unnamed: 0.1.1.1       False\n",
              "payment_account_y.1    False\n",
              "address_y.1            False\n",
              "outcome_y.1            False\n",
              "bid_id                 False\n",
              "auction                False\n",
              "merchandise            False\n",
              "device                 False\n",
              "time                   False\n",
              "country                 True\n",
              "ip                     False\n",
              "url                    False\n",
              "dtype: bool"
            ]
          },
          "metadata": {},
          "execution_count": 13
        }
      ],
      "source": [
        "pd.isnull(bids).any()\n"
      ]
    },
    {
      "cell_type": "code",
      "execution_count": null,
      "id": "2b48d93c",
      "metadata": {
        "id": "2b48d93c"
      },
      "outputs": [],
      "source": [
        "bids = bids.dropna()"
      ]
    },
    {
      "cell_type": "code",
      "execution_count": null,
      "id": "a3b8a8b5",
      "metadata": {
        "id": "a3b8a8b5",
        "outputId": "97d0ce6e-7761-42d1-964e-0c08875d5778",
        "colab": {
          "base_uri": "https://localhost:8080/"
        }
      },
      "outputs": [
        {
          "output_type": "execute_result",
          "data": {
            "text/plain": [
              "Unnamed: 0             False\n",
              "bidder_id              False\n",
              "payment_account_x      False\n",
              "address_x              False\n",
              "outcome_x              False\n",
              "Unnamed: 0.1           False\n",
              "payment_account_y      False\n",
              "address_y              False\n",
              "outcome_y              False\n",
              "Unnamed: 0.1.1         False\n",
              "payment_account_x.1    False\n",
              "address_x.1            False\n",
              "outcome_x.1            False\n",
              "Unnamed: 0.1.1.1       False\n",
              "payment_account_y.1    False\n",
              "address_y.1            False\n",
              "outcome_y.1            False\n",
              "bid_id                 False\n",
              "auction                False\n",
              "merchandise            False\n",
              "device                 False\n",
              "time                   False\n",
              "country                False\n",
              "ip                     False\n",
              "url                    False\n",
              "dtype: bool"
            ]
          },
          "metadata": {},
          "execution_count": 15
        }
      ],
      "source": [
        "# double checking the missing values\n",
        "\n",
        "pd.isnull(bids).any()"
      ]
    },
    {
      "cell_type": "markdown",
      "id": "dc130f2e",
      "metadata": {
        "id": "dc130f2e"
      },
      "source": [
        "# Exploratory data analysis"
      ]
    },
    {
      "cell_type": "code",
      "execution_count": null,
      "id": "279028ba",
      "metadata": {
        "id": "279028ba",
        "outputId": "fd976f3b-4c5d-40ba-d598-307bad57d316",
        "colab": {
          "base_uri": "https://localhost:8080/"
        }
      },
      "outputs": [
        {
          "output_type": "stream",
          "name": "stdout",
          "text": [
            "total bids made by robots in data set: 412153\n",
            "total bids made by human in data set:  2656370\n"
          ]
        }
      ],
      "source": [
        "# Ratio for human vs robot bids\n",
        "\n",
        "print(\n",
        "    f\"total bids made by robots in data set: {len(bids[bids['outcome_x'] == 1])}\")\n",
        "print(\n",
        "    f\"total bids made by human in data set:  {len(bids[bids['outcome_y'] == 0])}\")"
      ]
    },
    {
      "cell_type": "code",
      "execution_count": null,
      "id": "36177350",
      "metadata": {
        "id": "36177350",
        "outputId": "9588e1f1-5d6c-497c-aecb-dcffc5aef4c9",
        "colab": {
          "base_uri": "https://localhost:8080/"
        }
      },
      "outputs": [
        {
          "output_type": "stream",
          "name": "stdout",
          "text": [
            "total row in bid:          3068523\n",
            "total bids in bid:         3068523\n",
            "total bidder in bids:      1983\n",
            "total payment in bids:     1983\n",
            "total address in bids:     1983\n",
            "total auction in bids:     12740\n",
            "total merchandise in bids: 10\n",
            "total device in bids:      5726\n",
            "total country in bids:     198\n",
            "total ip in bids:          1028810\n",
            "total url in bids:         663265\n"
          ]
        }
      ],
      "source": [
        "# Checking the unique number of each feature in the dataset\n",
        "\n",
        "print(f\"total row in bid:          {len(bids)}\")\n",
        "print(f\"total bids in bid:         {len(bids['bid_id'].unique())}\")\n",
        "print(f\"total bidder in bids:      {len(bids['bidder_id'].unique())}\")\n",
        "print(f\"total payment in bids:     {len(bids['payment_account_x'].unique())}\")\n",
        "print(f\"total address in bids:     {len(bids['address_x'].unique())}\")\n",
        "print(f\"total auction in bids:     {len(bids['auction'].unique())}\")\n",
        "print(f\"total merchandise in bids: {len(bids['merchandise'].unique())}\")\n",
        "print(f\"total device in bids:      {len(bids['device'].unique())}\")\n",
        "print(f\"total country in bids:     {len(bids['country'].unique())}\")\n",
        "print(f\"total ip in bids:          {len(bids['ip'].unique())}\")\n",
        "print(f\"total url in bids:         {len(bids['url'].unique())}\")"
      ]
    },
    {
      "cell_type": "markdown",
      "id": "0439b711",
      "metadata": {
        "id": "0439b711"
      },
      "source": [
        "# Feature Extraction"
      ]
    },
    {
      "cell_type": "code",
      "execution_count": null,
      "id": "6ff49d47",
      "metadata": {
        "id": "6ff49d47"
      },
      "outputs": [],
      "source": [
        "def ent(bids_data):\n",
        "    p_data = bids_data.value_counts()/len(bids_data)\n",
        "    entropy_value = scipy.stats.entropy(p_data)\n",
        "    return entropy_value"
      ]
    },
    {
      "cell_type": "code",
      "execution_count": null,
      "id": "e98cdbd7",
      "metadata": {
        "id": "e98cdbd7",
        "outputId": "cdff1177-4731-4c5b-90e2-40a7b6e65934",
        "colab": {
          "base_uri": "https://localhost:8080/",
          "height": 380
        }
      },
      "outputs": [
        {
          "output_type": "error",
          "ename": "KeyError",
          "evalue": "ignored",
          "traceback": [
            "\u001b[0;31m---------------------------------------------------------------------------\u001b[0m",
            "\u001b[0;31mKeyError\u001b[0m                                  Traceback (most recent call last)",
            "\u001b[0;32m<ipython-input-77-fd9a5d69d10b>\u001b[0m in \u001b[0;36m<module>\u001b[0;34m()\u001b[0m\n\u001b[1;32m     26\u001b[0m \u001b[0;31m# Mean for per auction url entropy for each user\u001b[0m\u001b[0;34m\u001b[0m\u001b[0;34m\u001b[0m\u001b[0;34m\u001b[0m\u001b[0m\n\u001b[1;32m     27\u001b[0m \u001b[0;31m# Input a pandas series\u001b[0m\u001b[0;34m\u001b[0m\u001b[0;34m\u001b[0m\u001b[0;34m\u001b[0m\u001b[0m\n\u001b[0;32m---> 28\u001b[0;31m \u001b[0mauctionUrl_entropy\u001b[0m \u001b[0;34m=\u001b[0m \u001b[0mbids\u001b[0m\u001b[0;34m.\u001b[0m\u001b[0mgroupby\u001b[0m\u001b[0;34m(\u001b[0m\u001b[0;34m[\u001b[0m\u001b[0;34m'auction'\u001b[0m\u001b[0;34m,\u001b[0m \u001b[0;34m'bidder_id'\u001b[0m\u001b[0;34m]\u001b[0m\u001b[0;34m)\u001b[0m\u001b[0;34m[\u001b[0m\u001b[0;34m'url'\u001b[0m\u001b[0;34m]\u001b[0m\u001b[0;34m.\u001b[0m\u001b[0mapply\u001b[0m\u001b[0;34m(\u001b[0m\u001b[0ment\u001b[0m\u001b[0;34m)\u001b[0m\u001b[0;34m\u001b[0m\u001b[0;34m\u001b[0m\u001b[0m\n\u001b[0m\u001b[1;32m     29\u001b[0m auctionUrl_entropy = auctionUrl_entropy.groupby(\n\u001b[1;32m     30\u001b[0m     'bidder_id').mean().reset_index()\n",
            "\u001b[0;32m/usr/local/lib/python3.7/dist-packages/pandas/core/groupby/generic.py\u001b[0m in \u001b[0;36m__getitem__\u001b[0;34m(self, key)\u001b[0m\n\u001b[1;32m   1536\u001b[0m                 \u001b[0mstacklevel\u001b[0m\u001b[0;34m=\u001b[0m\u001b[0;36m2\u001b[0m\u001b[0;34m,\u001b[0m\u001b[0;34m\u001b[0m\u001b[0;34m\u001b[0m\u001b[0m\n\u001b[1;32m   1537\u001b[0m             )\n\u001b[0;32m-> 1538\u001b[0;31m         \u001b[0;32mreturn\u001b[0m \u001b[0msuper\u001b[0m\u001b[0;34m(\u001b[0m\u001b[0;34m)\u001b[0m\u001b[0;34m.\u001b[0m\u001b[0m__getitem__\u001b[0m\u001b[0;34m(\u001b[0m\u001b[0mkey\u001b[0m\u001b[0;34m)\u001b[0m\u001b[0;34m\u001b[0m\u001b[0;34m\u001b[0m\u001b[0m\n\u001b[0m\u001b[1;32m   1539\u001b[0m \u001b[0;34m\u001b[0m\u001b[0m\n\u001b[1;32m   1540\u001b[0m     \u001b[0;32mdef\u001b[0m \u001b[0m_gotitem\u001b[0m\u001b[0;34m(\u001b[0m\u001b[0mself\u001b[0m\u001b[0;34m,\u001b[0m \u001b[0mkey\u001b[0m\u001b[0;34m,\u001b[0m \u001b[0mndim\u001b[0m\u001b[0;34m:\u001b[0m \u001b[0mint\u001b[0m\u001b[0;34m,\u001b[0m \u001b[0msubset\u001b[0m\u001b[0;34m=\u001b[0m\u001b[0;32mNone\u001b[0m\u001b[0;34m)\u001b[0m\u001b[0;34m:\u001b[0m\u001b[0;34m\u001b[0m\u001b[0;34m\u001b[0m\u001b[0m\n",
            "\u001b[0;32m/usr/local/lib/python3.7/dist-packages/pandas/core/base.py\u001b[0m in \u001b[0;36m__getitem__\u001b[0;34m(self, key)\u001b[0m\n\u001b[1;32m    230\u001b[0m         \u001b[0;32melse\u001b[0m\u001b[0;34m:\u001b[0m\u001b[0;34m\u001b[0m\u001b[0;34m\u001b[0m\u001b[0m\n\u001b[1;32m    231\u001b[0m             \u001b[0;32mif\u001b[0m \u001b[0mkey\u001b[0m \u001b[0;32mnot\u001b[0m \u001b[0;32min\u001b[0m \u001b[0mself\u001b[0m\u001b[0;34m.\u001b[0m\u001b[0mobj\u001b[0m\u001b[0;34m:\u001b[0m\u001b[0;34m\u001b[0m\u001b[0;34m\u001b[0m\u001b[0m\n\u001b[0;32m--> 232\u001b[0;31m                 \u001b[0;32mraise\u001b[0m \u001b[0mKeyError\u001b[0m\u001b[0;34m(\u001b[0m\u001b[0;34mf\"Column not found: {key}\"\u001b[0m\u001b[0;34m)\u001b[0m\u001b[0;34m\u001b[0m\u001b[0;34m\u001b[0m\u001b[0m\n\u001b[0m\u001b[1;32m    233\u001b[0m             \u001b[0msubset\u001b[0m \u001b[0;34m=\u001b[0m \u001b[0mself\u001b[0m\u001b[0;34m.\u001b[0m\u001b[0mobj\u001b[0m\u001b[0;34m[\u001b[0m\u001b[0mkey\u001b[0m\u001b[0;34m]\u001b[0m\u001b[0;34m\u001b[0m\u001b[0;34m\u001b[0m\u001b[0m\n\u001b[1;32m    234\u001b[0m             \u001b[0mndim\u001b[0m \u001b[0;34m=\u001b[0m \u001b[0msubset\u001b[0m\u001b[0;34m.\u001b[0m\u001b[0mndim\u001b[0m\u001b[0;34m\u001b[0m\u001b[0;34m\u001b[0m\u001b[0m\n",
            "\u001b[0;31mKeyError\u001b[0m: 'Column not found: url'"
          ]
        }
      ],
      "source": [
        "# Bidding time difference - per user (bidder_id)\n",
        "bids = bids.sort_values(by=['time'])\n",
        "bids['timediffs'] = bids.groupby('bidder_id')['time'].transform(pd.Series.diff)\n",
        "\n",
        "# Number of bids a user made in each auction\n",
        "bids_PerAuction = bids.groupby(['auction', 'bidder_id']).size()\n",
        "bids_PerAuction = bids_PerAuction.to_frame()\n",
        "\n",
        "# Proportion of bots : for each Country\n",
        "pbotsCountry = bids[bids['outcome_x'] == 1].groupby(\n",
        "    'country').size()/bids.groupby('country').size()\n",
        "pbotsCountry = pbotsCountry.fillna(0)\n",
        "pbotsCountry = pbotsCountry.to_frame()\n",
        "\n",
        "# Proportion of bots : for per Device\n",
        "pbots_per_device = bids[bids['outcome_y'] == 1].groupby(\n",
        "    'device').size()/bids.groupby('device').size()\n",
        "pbots_per_device = pbots_per_device.fillna(0)\n",
        "pbots_per_device = pbots_per_device.to_frame()\n",
        "\n",
        "# Number of unique ip to : number of bids ratio\n",
        "ipToBids_Ratio = bids.groupby('bidder_id')['ip'].nunique(\n",
        ")/bids.groupby('bidder_id')['bid_id'].nunique()\n",
        "ipToBids_Ratio = ipToBids_Ratio.to_frame()\n",
        "\n",
        "# Mean for per auction url entropy for each user\n",
        "# Input a pandas series\n",
        "auctionUrl_entropy = bids.groupby(['auction', 'bidder_id'])['url'].apply(ent)\n",
        "auctionUrl_entropy = auctionUrl_entropy.groupby(\n",
        "    'bidder_id').mean().reset_index()"
      ]
    },
    {
      "cell_type": "code",
      "execution_count": null,
      "id": "789ccd27",
      "metadata": {
        "id": "789ccd27",
        "outputId": "b642721d-a51a-4818-fc3f-4c6a635969c1",
        "colab": {
          "base_uri": "https://localhost:8080/",
          "height": 363
        }
      },
      "outputs": [
        {
          "output_type": "error",
          "ename": "ValueError",
          "evalue": "ignored",
          "traceback": [
            "\u001b[0;31m---------------------------------------------------------------------------\u001b[0m",
            "\u001b[0;31mValueError\u001b[0m                                Traceback (most recent call last)",
            "\u001b[0;32m<ipython-input-73-6e6f8d0f1021>\u001b[0m in \u001b[0;36m<module>\u001b[0;34m()\u001b[0m\n\u001b[1;32m      9\u001b[0m                \u001b[0;34m'bid_id'\u001b[0m\u001b[0;34m,\u001b[0m \u001b[0;34m'auction'\u001b[0m\u001b[0;34m,\u001b[0m \u001b[0;34m'merchandise'\u001b[0m\u001b[0;34m,\u001b[0m \u001b[0;34m'device'\u001b[0m\u001b[0;34m,\u001b[0m \u001b[0;34m'time'\u001b[0m\u001b[0;34m,\u001b[0m \u001b[0;34m'country'\u001b[0m\u001b[0;34m,\u001b[0m\u001b[0;34m\u001b[0m\u001b[0;34m\u001b[0m\u001b[0m\n\u001b[1;32m     10\u001b[0m                \u001b[0;34m'ip'\u001b[0m\u001b[0;34m,\u001b[0m \u001b[0;34m'url'\u001b[0m\u001b[0;34m,\u001b[0m \u001b[0;34m'timediffs'\u001b[0m\u001b[0;34m,\u001b[0m \u001b[0;34m'bids_PerAuction'\u001b[0m\u001b[0;34m,\u001b[0m \u001b[0;34m'pbotsCountry'\u001b[0m\u001b[0;34m,\u001b[0m \u001b[0;34m'pbots_per_device'\u001b[0m\u001b[0;34m,\u001b[0m\u001b[0;34m\u001b[0m\u001b[0;34m\u001b[0m\u001b[0m\n\u001b[0;32m---> 11\u001b[0;31m                'ipToBids_Ratio', 'auctionUrl_entropy']\n\u001b[0m",
            "\u001b[0;32m/usr/local/lib/python3.7/dist-packages/pandas/core/generic.py\u001b[0m in \u001b[0;36m__setattr__\u001b[0;34m(self, name, value)\u001b[0m\n\u001b[1;32m   5498\u001b[0m         \u001b[0;32mtry\u001b[0m\u001b[0;34m:\u001b[0m\u001b[0;34m\u001b[0m\u001b[0;34m\u001b[0m\u001b[0m\n\u001b[1;32m   5499\u001b[0m             \u001b[0mobject\u001b[0m\u001b[0;34m.\u001b[0m\u001b[0m__getattribute__\u001b[0m\u001b[0;34m(\u001b[0m\u001b[0mself\u001b[0m\u001b[0;34m,\u001b[0m \u001b[0mname\u001b[0m\u001b[0;34m)\u001b[0m\u001b[0;34m\u001b[0m\u001b[0;34m\u001b[0m\u001b[0m\n\u001b[0;32m-> 5500\u001b[0;31m             \u001b[0;32mreturn\u001b[0m \u001b[0mobject\u001b[0m\u001b[0;34m.\u001b[0m\u001b[0m__setattr__\u001b[0m\u001b[0;34m(\u001b[0m\u001b[0mself\u001b[0m\u001b[0;34m,\u001b[0m \u001b[0mname\u001b[0m\u001b[0;34m,\u001b[0m \u001b[0mvalue\u001b[0m\u001b[0;34m)\u001b[0m\u001b[0;34m\u001b[0m\u001b[0;34m\u001b[0m\u001b[0m\n\u001b[0m\u001b[1;32m   5501\u001b[0m         \u001b[0;32mexcept\u001b[0m \u001b[0mAttributeError\u001b[0m\u001b[0;34m:\u001b[0m\u001b[0;34m\u001b[0m\u001b[0;34m\u001b[0m\u001b[0m\n\u001b[1;32m   5502\u001b[0m             \u001b[0;32mpass\u001b[0m\u001b[0;34m\u001b[0m\u001b[0;34m\u001b[0m\u001b[0m\n",
            "\u001b[0;32m/usr/local/lib/python3.7/dist-packages/pandas/_libs/properties.pyx\u001b[0m in \u001b[0;36mpandas._libs.properties.AxisProperty.__set__\u001b[0;34m()\u001b[0m\n",
            "\u001b[0;32m/usr/local/lib/python3.7/dist-packages/pandas/core/generic.py\u001b[0m in \u001b[0;36m_set_axis\u001b[0;34m(self, axis, labels)\u001b[0m\n\u001b[1;32m    764\u001b[0m     \u001b[0;32mdef\u001b[0m \u001b[0m_set_axis\u001b[0m\u001b[0;34m(\u001b[0m\u001b[0mself\u001b[0m\u001b[0;34m,\u001b[0m \u001b[0maxis\u001b[0m\u001b[0;34m:\u001b[0m \u001b[0mint\u001b[0m\u001b[0;34m,\u001b[0m \u001b[0mlabels\u001b[0m\u001b[0;34m:\u001b[0m \u001b[0mIndex\u001b[0m\u001b[0;34m)\u001b[0m \u001b[0;34m->\u001b[0m \u001b[0;32mNone\u001b[0m\u001b[0;34m:\u001b[0m\u001b[0;34m\u001b[0m\u001b[0;34m\u001b[0m\u001b[0m\n\u001b[1;32m    765\u001b[0m         \u001b[0mlabels\u001b[0m \u001b[0;34m=\u001b[0m \u001b[0mensure_index\u001b[0m\u001b[0;34m(\u001b[0m\u001b[0mlabels\u001b[0m\u001b[0;34m)\u001b[0m\u001b[0;34m\u001b[0m\u001b[0;34m\u001b[0m\u001b[0m\n\u001b[0;32m--> 766\u001b[0;31m         \u001b[0mself\u001b[0m\u001b[0;34m.\u001b[0m\u001b[0m_mgr\u001b[0m\u001b[0;34m.\u001b[0m\u001b[0mset_axis\u001b[0m\u001b[0;34m(\u001b[0m\u001b[0maxis\u001b[0m\u001b[0;34m,\u001b[0m \u001b[0mlabels\u001b[0m\u001b[0;34m)\u001b[0m\u001b[0;34m\u001b[0m\u001b[0;34m\u001b[0m\u001b[0m\n\u001b[0m\u001b[1;32m    767\u001b[0m         \u001b[0mself\u001b[0m\u001b[0;34m.\u001b[0m\u001b[0m_clear_item_cache\u001b[0m\u001b[0;34m(\u001b[0m\u001b[0;34m)\u001b[0m\u001b[0;34m\u001b[0m\u001b[0;34m\u001b[0m\u001b[0m\n\u001b[1;32m    768\u001b[0m \u001b[0;34m\u001b[0m\u001b[0m\n",
            "\u001b[0;32m/usr/local/lib/python3.7/dist-packages/pandas/core/internals/managers.py\u001b[0m in \u001b[0;36mset_axis\u001b[0;34m(self, axis, new_labels)\u001b[0m\n\u001b[1;32m    214\u001b[0m     \u001b[0;32mdef\u001b[0m \u001b[0mset_axis\u001b[0m\u001b[0;34m(\u001b[0m\u001b[0mself\u001b[0m\u001b[0;34m,\u001b[0m \u001b[0maxis\u001b[0m\u001b[0;34m:\u001b[0m \u001b[0mint\u001b[0m\u001b[0;34m,\u001b[0m \u001b[0mnew_labels\u001b[0m\u001b[0;34m:\u001b[0m \u001b[0mIndex\u001b[0m\u001b[0;34m)\u001b[0m \u001b[0;34m->\u001b[0m \u001b[0;32mNone\u001b[0m\u001b[0;34m:\u001b[0m\u001b[0;34m\u001b[0m\u001b[0;34m\u001b[0m\u001b[0m\n\u001b[1;32m    215\u001b[0m         \u001b[0;31m# Caller is responsible for ensuring we have an Index object.\u001b[0m\u001b[0;34m\u001b[0m\u001b[0;34m\u001b[0m\u001b[0;34m\u001b[0m\u001b[0m\n\u001b[0;32m--> 216\u001b[0;31m         \u001b[0mself\u001b[0m\u001b[0;34m.\u001b[0m\u001b[0m_validate_set_axis\u001b[0m\u001b[0;34m(\u001b[0m\u001b[0maxis\u001b[0m\u001b[0;34m,\u001b[0m \u001b[0mnew_labels\u001b[0m\u001b[0;34m)\u001b[0m\u001b[0;34m\u001b[0m\u001b[0;34m\u001b[0m\u001b[0m\n\u001b[0m\u001b[1;32m    217\u001b[0m         \u001b[0mself\u001b[0m\u001b[0;34m.\u001b[0m\u001b[0maxes\u001b[0m\u001b[0;34m[\u001b[0m\u001b[0maxis\u001b[0m\u001b[0;34m]\u001b[0m \u001b[0;34m=\u001b[0m \u001b[0mnew_labels\u001b[0m\u001b[0;34m\u001b[0m\u001b[0;34m\u001b[0m\u001b[0m\n\u001b[1;32m    218\u001b[0m \u001b[0;34m\u001b[0m\u001b[0m\n",
            "\u001b[0;32m/usr/local/lib/python3.7/dist-packages/pandas/core/internals/base.py\u001b[0m in \u001b[0;36m_validate_set_axis\u001b[0;34m(self, axis, new_labels)\u001b[0m\n\u001b[1;32m     56\u001b[0m         \u001b[0;32melif\u001b[0m \u001b[0mnew_len\u001b[0m \u001b[0;34m!=\u001b[0m \u001b[0mold_len\u001b[0m\u001b[0;34m:\u001b[0m\u001b[0;34m\u001b[0m\u001b[0;34m\u001b[0m\u001b[0m\n\u001b[1;32m     57\u001b[0m             raise ValueError(\n\u001b[0;32m---> 58\u001b[0;31m                 \u001b[0;34mf\"Length mismatch: Expected axis has {old_len} elements, new \"\u001b[0m\u001b[0;34m\u001b[0m\u001b[0;34m\u001b[0m\u001b[0m\n\u001b[0m\u001b[1;32m     59\u001b[0m                 \u001b[0;34mf\"values have {new_len} elements\"\u001b[0m\u001b[0;34m\u001b[0m\u001b[0;34m\u001b[0m\u001b[0m\n\u001b[1;32m     60\u001b[0m             )\n",
            "\u001b[0;31mValueError\u001b[0m: Length mismatch: Expected axis has 31 elements, new values have 19 elements"
          ]
        }
      ],
      "source": [
        "# merge the features back\n",
        "bids = pd.merge(bids, bids_PerAuction, on=['auction', 'bidder_id'], how='left')\n",
        "bids = pd.merge(bids, pbotsCountry, on='country', how='left')\n",
        "bids = pd.merge(bids, pbots_per_device, on='device', how='left')\n",
        "bids = pd.merge(bids, ipToBids_Ratio, on='bidder_id', how='left')\n",
        "bids = pd.merge(bids, auctionUrl_entropy, on='bidder_id', how='left')\n",
        "# set column names\n",
        "bids.columns = ['Unnamed: 0', 'bidder_id', 'payment_account', 'address', 'outcome',\n",
        "               'bid_id', 'auction', 'merchandise', 'device', 'time', 'country',\n",
        "               'ip', 'url', 'timediffs', 'bids_PerAuction', 'pbotsCountry', 'pbots_per_device',\n",
        "               'ipToBids_Ratio', 'auctionUrl_entropy']"
      ]
    },
    {
      "cell_type": "code",
      "execution_count": null,
      "id": "f681f4ee",
      "metadata": {
        "id": "f681f4ee"
      },
      "outputs": [],
      "source": [
        "bids = pd.concat([bids.iloc[:, 4], bids.iloc[:, -6:]], axis=1)\n",
        "bids.to_csv(\"featured.csv\")"
      ]
    },
    {
      "cell_type": "code",
      "execution_count": null,
      "id": "2810d641",
      "metadata": {
        "id": "2810d641"
      },
      "outputs": [],
      "source": [
        "bids = pd.read_csv(\"featured.csv\")\n",
        "bids = bids.iloc[:, 1:8]"
      ]
    },
    {
      "cell_type": "markdown",
      "id": "6f141b50",
      "metadata": {
        "id": "6f141b50"
      },
      "source": [
        "# Data Visualization"
      ]
    },
    {
      "cell_type": "code",
      "execution_count": null,
      "id": "d03ba54c",
      "metadata": {
        "id": "d03ba54c"
      },
      "outputs": [],
      "source": [
        "# Plotting the data\n",
        "\n",
        "bots = bids.loc[bids.outcome == 1]\n",
        "humans = bids.loc[bids.outcome == 0]\n",
        "\n",
        "fig, axes = plt.subplots(3, 2, figsize=(14, 12), sharex=False)\n",
        "sns.distplot(bots['bids_PerAuction'], hist=False, kde=True,\n",
        "             bins=int(180/5), color='darkblue',\n",
        "             kde_kws={'linewidth': 1.5}, ax=axes[0, 0])\n",
        "sns.distplot(humans['bids_PerAuction'], hist=False, kde=True,\n",
        "             bins=int(180/5), color='darkred',\n",
        "             kde_kws={'linewidth': 1.5}, ax=axes[0, 0])\n",
        "\n",
        "sns.distplot(bots['pbotsCountry'], hist=False, kde=True,\n",
        "             bins=int(180/5), color='darkblue',\n",
        "             kde_kws={'linewidth': 1.5}, ax=axes[0, 1])\n",
        "sns.distplot(humans['pbotsCountry'], hist=False, kde=True,\n",
        "             bins=int(180/5), color='darkred',\n",
        "             kde_kws={'linewidth': 1.5}, ax=axes[0, 1])\n",
        "\n",
        "sns.distplot(bots['pbots_per_device'], hist=False, kde=True,\n",
        "             bins=int(180/5), color='darkblue', label='bots',\n",
        "             kde_kws={'linewidth': 1.5}, ax=axes[1, 0])\n",
        "sns.distplot(humans['pbots_per_device'], hist=False, kde=True,\n",
        "             bins=int(180/5), color='darkred', label='human',\n",
        "             kde_kws={'linewidth': 1.5}, ax=axes[1, 0])\n",
        "\n",
        "sns.distplot(bots['ipToBids_Ratio'], hist=False, kde=True,\n",
        "             bins=int(180/5), color='darkblue',\n",
        "             kde_kws={'linewidth': 1.5}, ax=axes[1, 1])\n",
        "sns.distplot(humans['ipToBids_Ratio'], hist=False, kde=True,\n",
        "             bins=int(180/5), color='darkred',\n",
        "             kde_kws={'linewidth': 1.5}, ax=axes[1, 1])\n",
        "\n",
        "sns.distplot(bots['auctionUrl_entropy'], hist=False, kde=True,\n",
        "             bins=int(180/5), color='darkblue',\n",
        "             kde_kws={'linewidth': 1.5}, ax=axes[2, 0])\n",
        "sns.distplot(humans['auctionUrl_entropy'], hist=False, kde=True,\n",
        "             bins=int(180/5), color='darkred',\n",
        "             kde_kws={'linewidth': 1.5}, ax=axes[2, 0])\n",
        "\n",
        "sns.distplot(bots['timediffs'], hist=False, kde=True,\n",
        "             bins=int(180/5), color='darkblue',\n",
        "             kde_kws={'linewidth': 1.5}, ax=axes[2, 1])\n",
        "sns.distplot(humans['timediffs'], hist=False, kde=True,\n",
        "             bins=int(180/5), color='darkred',\n",
        "             kde_kws={'linewidth': 1.5}, ax=axes[2, 1])\n",
        "plt.legend(['bots', 'human'])\n",
        "plt.show()"
      ]
    },
    {
      "cell_type": "markdown",
      "id": "8691107a",
      "metadata": {
        "id": "8691107a"
      },
      "source": [
        "# Splitiing into train and test set and handling under sampling"
      ]
    },
    {
      "cell_type": "code",
      "execution_count": null,
      "id": "e1780023",
      "metadata": {
        "id": "e1780023"
      },
      "outputs": [],
      "source": [
        "bid_train, bid_test = train_test_split(bids, test_size=0.2)\n",
        "bots_train = bid_train.loc[bid_train.outcome == 1]\n",
        "human_train = bid_train.loc[bid_train.outcome == 0]\n",
        "human_sample = human_train.sample(n=len(bots_train))\n",
        "bid_train_balance = pd.concat([bots_train, human_sample])\n",
        "\n",
        "label_encoder = preprocessing.LabelEncoder()\n",
        "\n",
        "for i in list(bid_train_balance.columns):\n",
        "    bid_train_balance[i] = label_encoder.fit_transform(bid_train_balance[i])\n",
        "    bid_train_balance[i].unique()\n",
        "\n",
        "for i in list(bid_test.columns):\n",
        "    bid_test[i] = label_encoder.fit_transform(bid_test[i])\n",
        "    bid_test[i].unique()\n",
        "\n",
        "\n",
        "Y_Train = bid_train_balance['outcome']\n",
        "X_Train = bid_train_balance.iloc[:, -5:]\n",
        "Y_Test = bid_test['outcome']\n",
        "X_Test = bid_test.iloc[:, -5:]"
      ]
    },
    {
      "cell_type": "markdown",
      "id": "db21abfb",
      "metadata": {
        "id": "db21abfb"
      },
      "source": [
        "# Model Building"
      ]
    },
    {
      "cell_type": "markdown",
      "id": "e0d7b92f",
      "metadata": {
        "id": "e0d7b92f"
      },
      "source": [
        "# 1.Logistic Regression Model"
      ]
    },
    {
      "cell_type": "code",
      "execution_count": null,
      "id": "7ccd52a8",
      "metadata": {
        "id": "7ccd52a8"
      },
      "outputs": [],
      "source": [
        "from sklearn.linear_model import LogisticRegression\n",
        "from sklearn import preprocessing\n",
        "\n",
        "lr = LogisticRegression(solver='lbfgs', max_iter=1000)\n",
        "lr.fit(X_Train,Y_Train)\n",
        "\n",
        "\n",
        "lr_Predictions = lr.predict(X_Test)\n",
        "\n",
        "print(metrics.f1_score(Y_Test, lr_Predictions, average='weighted'))"
      ]
    },
    {
      "cell_type": "code",
      "execution_count": null,
      "id": "36ac6a1a",
      "metadata": {
        "id": "36ac6a1a"
      },
      "outputs": [],
      "source": [
        "lr_score = lr.predict_proba(X_Test)[:, 1]\n",
        "fpr_lr, tpr_lr, _lr = roc_curve(Y_Test, lr_score)\n",
        "roc_lr_auc = auc(fpr_lr, tpr_lr)\n",
        "\n",
        "fig = plt.figure(figsize=(5, 5))\n",
        "plt.plot(fpr_lr, tpr_lr, label='Logistic Regression : ROC curve (area = %0.2f)' % roc_lr_auc)\n",
        "plt.plot([0, 1], [0, 1], 'k--')\n",
        "plt.xlim([0.0, 1.0])\n",
        "plt.ylim([0.0, 1.005])\n",
        "plt.xlabel('False Positive Rate')\n",
        "plt.ylabel('True Positive Rate')\n",
        "plt.title('Receiver Operating Characteristic')\n",
        "plt.legend(loc=\"lower right\")\n",
        "plt.show()\n",
        "fig.savefig('roc_lr_auc.png')"
      ]
    },
    {
      "cell_type": "code",
      "execution_count": null,
      "id": "645f6094",
      "metadata": {
        "id": "645f6094"
      },
      "outputs": [],
      "source": [
        "print('Classification Report for Logistic Regression Model')\n",
        "print(classification_report(Y_Test, lr_Predictions))"
      ]
    },
    {
      "cell_type": "markdown",
      "id": "fe424428",
      "metadata": {
        "id": "fe424428"
      },
      "source": [
        "# 2.Random Forest"
      ]
    },
    {
      "cell_type": "code",
      "execution_count": null,
      "id": "7acd7cba-2abd-42da-9bd4-f05856fa1a86",
      "metadata": {
        "id": "7acd7cba-2abd-42da-9bd4-f05856fa1a86"
      },
      "outputs": [],
      "source": [
        "randomForest = RandomForestClassifier(n_estimators=100, max_depth=5,\n",
        "                            max_leaf_nodes=11, max_features='log2',\n",
        "                            bootstrap=True, oob_score=True)\n",
        "randomForest.fit(X_Train, Y_Train)"
      ]
    },
    {
      "cell_type": "code",
      "execution_count": null,
      "id": "a2f32423-14b4-4cd5-a2f5-9d304b3a6028",
      "metadata": {
        "id": "a2f32423-14b4-4cd5-a2f5-9d304b3a6028"
      },
      "outputs": [],
      "source": [
        "rf_Predictions = randomForest.predict(X_Test)\n",
        "print(f\"Random Forest Accuracy: {accuracy_score(rf_Predictions, Y_Test):.3f}\")"
      ]
    },
    {
      "cell_type": "code",
      "execution_count": null,
      "id": "4aaaf7b9",
      "metadata": {
        "id": "4aaaf7b9"
      },
      "outputs": [],
      "source": [
        "y_RF_Score = randomForest.predict_proba(X_Test)[:, 1]\n",
        "fpr_RF, tpr_RF, _RF = roc_curve(Y_Test, y_RF_Score)\n",
        "roc_RF_auc = auc(fpr_RF, tpr_RF)\n",
        "\n",
        "plt.figure(figsize=(5, 5))\n",
        "plt.plot(fpr_RF, tpr_RF, label='Random Forest : ROC curve (area = %0.2f)' % roc_RF_auc)\n",
        "plt.plot([0, 1], [0, 1], 'k--')\n",
        "plt.xlim([0.0, 1.0])\n",
        "plt.ylim([0.0, 1.005])\n",
        "plt.xlabel('False Positive Rate')\n",
        "plt.ylabel('True Positive Rate')\n",
        "plt.legend(loc=\"lower right\")\n",
        "plt.show()"
      ]
    },
    {
      "cell_type": "code",
      "execution_count": null,
      "id": "254c216d",
      "metadata": {
        "id": "254c216d"
      },
      "outputs": [],
      "source": [
        "print('Classification Report for Random Forest Model : ')\n",
        "print(classification_report(Y_Test, rf_Predictions))"
      ]
    },
    {
      "cell_type": "markdown",
      "id": "f04c0510",
      "metadata": {
        "id": "f04c0510"
      },
      "source": [
        "# 3.Gradient Boosting"
      ]
    },
    {
      "cell_type": "code",
      "execution_count": null,
      "id": "3399735e",
      "metadata": {
        "id": "3399735e"
      },
      "outputs": [],
      "source": [
        "gb = GradientBoostingClassifier(n_estimators=10)\n",
        "gb = GradientBoostingClassifier(n_estimators=100, max_depth=5, max_features='sqrt',\n",
        "                                max_leaf_nodes=9)\n",
        "gb.fit(X_Train, Y_Train)"
      ]
    },
    {
      "cell_type": "code",
      "execution_count": null,
      "id": "84485e3f",
      "metadata": {
        "id": "84485e3f"
      },
      "outputs": [],
      "source": [
        "gb_Predictions = gb.predict(X_Test)\n",
        "print(f\" Accuracy for Gradient Boosting : {accuracy_score(gb_Predictions, Y_Test):.3f}\")"
      ]
    },
    {
      "cell_type": "code",
      "execution_count": null,
      "id": "d0011d60",
      "metadata": {
        "id": "d0011d60"
      },
      "outputs": [],
      "source": [
        "y_GB_score = gb.predict_proba(X_Test)[:, 1]\n",
        "fpr_GB, tpr_GB, _GB = roc_curve(Y_Test, y_GB_score)\n",
        "roc_GB_auc = auc(fpr_GB, tpr_GB)\n",
        "\n",
        "plt.figure(figsize=(5, 5))\n",
        "plt.plot(fpr_GB, tpr_GB, label='GB ROC curve : (area = %0.2f)' % roc_GB_auc)\n",
        "plt.plot([0, 1], [0, 1], 'k--')\n",
        "plt.xlim([0.0, 1.0])\n",
        "plt.ylim([0.0, 1.005])\n",
        "plt.xlabel('False Positive Rate')\n",
        "plt.ylabel('True Positive Rate')\n",
        "plt.legend(loc=\"lower right\")\n",
        "plt.show()"
      ]
    },
    {
      "cell_type": "code",
      "execution_count": null,
      "id": "7c10449a",
      "metadata": {
        "id": "7c10449a"
      },
      "outputs": [],
      "source": [
        "print('Classification Report for Gradient Boosting Model : ')\n",
        "print(classification_report(Y_Test, gb_Predictions))"
      ]
    },
    {
      "cell_type": "markdown",
      "id": "bb8013e7",
      "metadata": {
        "id": "bb8013e7"
      },
      "source": [
        "# Comparing Models"
      ]
    },
    {
      "cell_type": "code",
      "execution_count": null,
      "id": "c36f9d80",
      "metadata": {
        "id": "c36f9d80"
      },
      "outputs": [],
      "source": [
        "lr_model = [metrics.accuracy_score(Y_Test, lr_Predictions), metrics.precision_score(Y_Test,lr_Predictions),\n",
        "              metrics.recall_score(Y_Test, lr_Predictions), metrics.f1_score(Y_Test,lr_Predictions),\n",
        "              metrics.roc_auc_score(Y_Test, lr_Predictions)]\n",
        "rf_model = [metrics.accuracy_score(Y_Test, rf_Predictions), metrics.precision_score(Y_Test, rf_Predictions),\n",
        "              metrics.recall_score(Y_Test, rf_Predictions), metrics.f1_score(\n",
        "                  Y_Test, rf_Predictions),\n",
        "              metrics.roc_auc_score(Y_Test, rf_Predictions)]\n",
        "gb_model = [metrics.accuracy_score(Y_Test, gb_Predictions), metrics.precision_score(Y_Test, gb_Predictions),\n",
        "              metrics.recall_score(Y_Test, gb_Predictions), metrics.f1_score(\n",
        "                  Y_Test, gb_Predictions),\n",
        "              metrics.roc_auc_score(Y_Test, gb_Predictions)]"
      ]
    },
    {
      "cell_type": "code",
      "execution_count": null,
      "id": "f7eb32c9",
      "metadata": {
        "id": "f7eb32c9"
      },
      "outputs": [],
      "source": [
        "fig, ax = plt.subplots(figsize=(10, 8))\n",
        "index = np.arange(5)\n",
        "width = 0.2\n",
        "bar1 = plt.bar(index, lr_model[0:5], width,\n",
        "             alpha=0.4, color='orange', label='Logistic Regression')\n",
        "bar2 = plt.bar(index+width, rf_model[0:5], width,\n",
        "             alpha=0.8, color='green', label='random forest')\n",
        "bar3 = plt.bar(index+2*width, gb_model[0:5], width,\n",
        "             alpha=0.8, color='blue', label='gradient boosting')\n",
        "plt.title('Model Comparison for the project :')\n",
        "plt.ylabel('Score')\n",
        "plt.xticks(index+width, ('accuracy', 'precision', 'recall', 'F1', 'ROC AUC'))\n",
        "plt.legend(loc=8, ncol=3, mode=\"expand\", borderaxespad=0.)\n",
        "plt.show()"
      ]
    },
    {
      "cell_type": "code",
      "execution_count": null,
      "id": "37810d99",
      "metadata": {
        "id": "37810d99"
      },
      "outputs": [],
      "source": [
        "label = [\"Accuracy_score\", \"Precision_score\",\n",
        "         \"Recall_Score\", \"F1_score\", \"ROC_AUC_score\"]\n",
        "table = pd.DataFrame({'Logistic Regression': lr_model,\n",
        "                      'Random Forest': rf_model, 'Gradient Boosting': gb_model})\n",
        "table = table.transpose()\n",
        "table.columns = label\n",
        "table.transpose().round(3)"
      ]
    }
  ],
  "metadata": {
    "kernelspec": {
      "display_name": "Python 3",
      "language": "python",
      "name": "python3"
    },
    "language_info": {
      "codemirror_mode": {
        "name": "ipython",
        "version": 3
      },
      "file_extension": ".py",
      "mimetype": "text/x-python",
      "name": "python",
      "nbconvert_exporter": "python",
      "pygments_lexer": "ipython3",
      "version": "3.8.8"
    },
    "colab": {
      "provenance": [],
      "collapsed_sections": [
        "db21abfb"
      ]
    }
  },
  "nbformat": 4,
  "nbformat_minor": 5
}